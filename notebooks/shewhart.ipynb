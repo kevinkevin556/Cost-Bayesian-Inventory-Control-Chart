{
 "cells": [
  {
   "cell_type": "code",
   "execution_count": 6,
   "metadata": {},
   "outputs": [],
   "source": [
    "import numpy as np\n",
    "\n",
    "from control_chart.shewhart import ShewhartControlChart\n",
    "from meter import Meter\n",
    "from random_demand import stable, stepwise_increasing"
   ]
  },
  {
   "cell_type": "code",
   "execution_count": 3,
   "metadata": {},
   "outputs": [
    {
     "name": "stdout",
     "output_type": "stream",
     "text": [
      "n_stockout:        407.9051 | n_holding:        118.7329 | stockout_cost:        407.9051 | holding_cost:        237.4659 | total_cost:        645.3710 | service_level:          0.2885\n",
      "n_stockout:        312.0421 | n_holding:        101.3421 | stockout_cost:        312.0421 | holding_cost:        202.6842 | total_cost:        514.7262 | service_level:          0.3654\n",
      "n_stockout:        298.1196 | n_holding:        137.8207 | stockout_cost:        298.1196 | holding_cost:        275.6414 | total_cost:        573.7611 | service_level:          0.3462\n",
      "n_stockout:        255.4074 | n_holding:        159.7328 | stockout_cost:        255.4074 | holding_cost:        319.4656 | total_cost:        574.8731 | service_level:          0.4423\n",
      "n_stockout:        358.2705 | n_holding:        123.6047 | stockout_cost:        358.2705 | holding_cost:        247.2094 | total_cost:        605.4799 | service_level:          0.3077\n",
      "n_stockout:        345.0481 | n_holding:         56.5042 | stockout_cost:        345.0481 | holding_cost:        113.0085 | total_cost:        458.0566 | service_level:          0.2115\n",
      "n_stockout:        373.1515 | n_holding:        111.9055 | stockout_cost:        373.1515 | holding_cost:        223.8110 | total_cost:        596.9625 | service_level:          0.3269\n",
      "n_stockout:        340.2237 | n_holding:        141.4471 | stockout_cost:        340.2237 | holding_cost:        282.8942 | total_cost:        623.1180 | service_level:          0.3269\n",
      "* Out of control 968.6508023237936 New (mu, sigma) = (1000.0846668994911, 10)\n",
      "n_stockout:        352.6853 | n_holding:        149.9063 | stockout_cost:        352.6853 | holding_cost:        299.8125 | total_cost:        652.4978 | service_level:          0.3462\n",
      "n_stockout:        355.0372 | n_holding:         88.7022 | stockout_cost:        355.0372 | holding_cost:        177.4044 | total_cost:        532.4415 | service_level:          0.3077\n",
      "n_stockout:        353.4471 | n_holding:         75.5939 | stockout_cost:        353.4471 | holding_cost:        151.1877 | total_cost:        504.6348 | service_level:          0.2500\n",
      "n_stockout:        295.5454 | n_holding:        103.0193 | stockout_cost:        295.5454 | holding_cost:        206.0386 | total_cost:        501.5840 | service_level:          0.3269\n",
      "* Out of control 968.5258347845602 New (mu, sigma) = (997.6782445703653, 10)\n",
      "n_stockout:        297.1345 | n_holding:        163.6047 | stockout_cost:        297.1345 | holding_cost:        327.2094 | total_cost:        624.3439 | service_level:          0.4038\n",
      "n_stockout:        373.9940 | n_holding:         78.6634 | stockout_cost:        373.9940 | holding_cost:        157.3267 | total_cost:        531.3208 | service_level:          0.2500\n",
      "n_stockout:        293.9426 | n_holding:        134.5124 | stockout_cost:        293.9426 | holding_cost:        269.0247 | total_cost:        562.9673 | service_level:          0.3462\n",
      "n_stockout:        307.7406 | n_holding:        126.9408 | stockout_cost:        307.7406 | holding_cost:        253.8816 | total_cost:        561.6222 | service_level:          0.3846\n",
      "n_stockout:        323.7019 | n_holding:        126.3155 | stockout_cost:        323.7019 | holding_cost:        252.6311 | total_cost:        576.3330 | service_level:          0.4038\n",
      "* Out of control 1033.4515739490294 New (mu, sigma) = (1000.7251318512283, 10)\n",
      "n_stockout:        365.1102 | n_holding:        119.2869 | stockout_cost:        365.1102 | holding_cost:        238.5739 | total_cost:        603.6840 | service_level:          0.3462\n",
      "n_stockout:        422.8538 | n_holding:         69.7659 | stockout_cost:        422.8538 | holding_cost:        139.5319 | total_cost:        562.3857 | service_level:          0.2500\n",
      "n_stockout:        342.0418 | n_holding:         72.8711 | stockout_cost:        342.0418 | holding_cost:        145.7422 | total_cost:        487.7841 | service_level:          0.2885\n",
      "* Out of control 968.1029721077474 New (mu, sigma) = (998.2835636098384, 10)\n",
      "n_stockout:        410.2535 | n_holding:        147.3573 | stockout_cost:        410.2535 | holding_cost:        294.7147 | total_cost:        704.9681 | service_level:          0.3077\n",
      "n_stockout:        332.2049 | n_holding:        112.6287 | stockout_cost:        332.2049 | holding_cost:        225.2574 | total_cost:        557.4623 | service_level:          0.3269\n",
      "n_stockout:        326.0667 | n_holding:        128.0879 | stockout_cost:        326.0667 | holding_cost:        256.1758 | total_cost:        582.2425 | service_level:          0.3846\n",
      "n_stockout:        336.9175 | n_holding:         95.4954 | stockout_cost:        336.9175 | holding_cost:        190.9909 | total_cost:        527.9084 | service_level:          0.2692\n",
      "n_stockout:        431.8051 | n_holding:        101.4705 | stockout_cost:        431.8051 | holding_cost:        202.9410 | total_cost:        634.7460 | service_level:          0.2308\n",
      "n_stockout:        382.4771 | n_holding:        157.3184 | stockout_cost:        382.4771 | holding_cost:        314.6367 | total_cost:        697.1138 | service_level:          0.3846\n",
      "n_stockout:        328.4329 | n_holding:        106.1077 | stockout_cost:        328.4329 | holding_cost:        212.2153 | total_cost:        540.6483 | service_level:          0.3077\n",
      "n_stockout:        399.6218 | n_holding:         66.5997 | stockout_cost:        399.6218 | holding_cost:        133.1993 | total_cost:        532.8211 | service_level:          0.2115\n",
      "n_stockout:        318.2563 | n_holding:         80.7724 | stockout_cost:        318.2563 | holding_cost:        161.5448 | total_cost:        479.8011 | service_level:          0.3077\n",
      "n_stockout:        375.0804 | n_holding:        128.0530 | stockout_cost:        375.0804 | holding_cost:        256.1059 | total_cost:        631.1864 | service_level:          0.3077\n",
      "n_stockout:        358.5980 | n_holding:        159.0154 | stockout_cost:        358.5980 | holding_cost:        318.0308 | total_cost:        676.6288 | service_level:          0.3846\n",
      "n_stockout:        259.8009 | n_holding:         78.0289 | stockout_cost:        259.8009 | holding_cost:        156.0578 | total_cost:        415.8588 | service_level:          0.3846\n",
      "* Out of control 1033.637125482438 New (mu, sigma) = (1004.1251672711927, 10)\n",
      "n_stockout:        344.7943 | n_holding:        120.9987 | stockout_cost:        344.7943 | holding_cost:        241.9975 | total_cost:        586.7918 | service_level:          0.3462\n",
      "n_stockout:        250.2999 | n_holding:        154.3632 | stockout_cost:        250.2999 | holding_cost:        308.7264 | total_cost:        559.0263 | service_level:          0.4423\n",
      "n_stockout:        306.3349 | n_holding:        110.4784 | stockout_cost:        306.3349 | holding_cost:        220.9567 | total_cost:        527.2916 | service_level:          0.3462\n",
      "* Out of control 969.8335876193245 New (mu, sigma) = (999.0809832325948, 10)\n",
      "n_stockout:        308.2549 | n_holding:        129.2110 | stockout_cost:        308.2549 | holding_cost:        258.4220 | total_cost:        566.6769 | service_level:          0.3462\n",
      "n_stockout:        280.2293 | n_holding:        148.7612 | stockout_cost:        280.2293 | holding_cost:        297.5225 | total_cost:        577.7518 | service_level:          0.4615\n",
      "n_stockout:        377.1595 | n_holding:        100.8634 | stockout_cost:        377.1595 | holding_cost:        201.7269 | total_cost:        578.8864 | service_level:          0.2308\n",
      "n_stockout:        371.2285 | n_holding:        134.1323 | stockout_cost:        371.2285 | holding_cost:        268.2647 | total_cost:        639.4932 | service_level:          0.3462\n",
      "n_stockout:        373.6360 | n_holding:        136.9215 | stockout_cost:        373.6360 | holding_cost:        273.8429 | total_cost:        647.4789 | service_level:          0.3462\n",
      "n_stockout:        323.5554 | n_holding:         75.4511 | stockout_cost:        323.5554 | holding_cost:        150.9023 | total_cost:        474.4577 | service_level:          0.3077\n",
      "n_stockout:        268.5706 | n_holding:        153.3440 | stockout_cost:        268.5706 | holding_cost:        306.6879 | total_cost:        575.2585 | service_level:          0.5000\n",
      "n_stockout:        248.3032 | n_holding:        137.6719 | stockout_cost:        248.3032 | holding_cost:        275.3438 | total_cost:        523.6470 | service_level:          0.4231\n",
      "n_stockout:        383.5277 | n_holding:         84.0957 | stockout_cost:        383.5277 | holding_cost:        168.1914 | total_cost:        551.7191 | service_level:          0.3077\n",
      "* Out of control 969.2631118474023 New (mu, sigma) = (998.4961512513186, 10)\n",
      "n_stockout:        353.8512 | n_holding:        139.7092 | stockout_cost:        353.8512 | holding_cost:        279.4185 | total_cost:        633.2696 | service_level:          0.3462\n",
      "n_stockout:        245.3176 | n_holding:        149.3655 | stockout_cost:        245.3176 | holding_cost:        298.7310 | total_cost:        544.0487 | service_level:          0.4423\n",
      "n_stockout:        271.7645 | n_holding:         95.7233 | stockout_cost:        271.7645 | holding_cost:        191.4466 | total_cost:        463.2111 | service_level:          0.3077\n",
      "n_stockout:        291.0066 | n_holding:        151.1800 | stockout_cost:        291.0066 | holding_cost:        302.3600 | total_cost:        593.3666 | service_level:          0.4038\n",
      "n_stockout:        341.2678 | n_holding:        119.6404 | stockout_cost:        341.2678 | holding_cost:        239.2808 | total_cost:        580.5486 | service_level:          0.4231\n",
      "n_stockout:        401.2318 | n_holding:        102.8033 | stockout_cost:        401.2318 | holding_cost:        205.6067 | total_cost:        606.8385 | service_level:          0.2500\n",
      "* Out of control 1033.1407534551208 New (mu, sigma) = (1000.1203312297522, 10)\n",
      "n_stockout:        354.8181 | n_holding:         96.7939 | stockout_cost:        354.8181 | holding_cost:        193.5878 | total_cost:        548.4059 | service_level:          0.2692\n",
      "n_stockout:        303.9124 | n_holding:         91.3609 | stockout_cost:        303.9124 | holding_cost:        182.7218 | total_cost:        486.6341 | service_level:          0.3269\n",
      "n_stockout:        411.3739 | n_holding:         72.7544 | stockout_cost:        411.3739 | holding_cost:        145.5089 | total_cost:        556.8828 | service_level:          0.2500\n",
      "n_stockout:        346.1682 | n_holding:        120.8923 | stockout_cost:        346.1682 | holding_cost:        241.7847 | total_cost:        587.9529 | service_level:          0.3654\n",
      "n_stockout:        275.2192 | n_holding:        117.9352 | stockout_cost:        275.2192 | holding_cost:        235.8704 | total_cost:        511.0896 | service_level:          0.4038\n",
      "n_stockout:        318.5105 | n_holding:        117.6299 | stockout_cost:        318.5105 | holding_cost:        235.2599 | total_cost:        553.7704 | service_level:          0.3462\n",
      "n_stockout:        304.7897 | n_holding:        134.3736 | stockout_cost:        304.7897 | holding_cost:        268.7473 | total_cost:        573.5370 | service_level:          0.3846\n",
      "n_stockout:        375.8810 | n_holding:        129.5666 | stockout_cost:        375.8810 | holding_cost:        259.1333 | total_cost:        635.0143 | service_level:          0.3269\n",
      "n_stockout:        352.7898 | n_holding:        137.9292 | stockout_cost:        352.7898 | holding_cost:        275.8583 | total_cost:        628.6481 | service_level:          0.3654\n",
      "n_stockout:        319.3299 | n_holding:        166.9420 | stockout_cost:        319.3299 | holding_cost:        333.8840 | total_cost:        653.2138 | service_level:          0.4423\n",
      "----------------------------------------------------------------------\n",
      "     n_stockout - mean:        335.6007, std:         45.8269\n",
      "      n_holding - mean:        117.5350, std:         28.1791\n",
      "  stockout_cost - mean:        335.6007, std:         45.8269\n",
      "   holding_cost - mean:        235.0700, std:         56.3583\n",
      "     total_cost - mean:        570.6707, std:         59.8477\n",
      "  service_level - mean:          0.3397, std:          0.0645\n"
     ]
    }
   ],
   "source": [
    "# demand: stable N(1000, 10) * 52\n",
    "# stockout cost vs. holding cost = 1:2\n",
    "\n",
    "p = 6\n",
    "c = 5\n",
    "r = 3\n",
    "meter = Meter(p, c, r)\n",
    "\n",
    "for i in range(60):\n",
    "    demand = stable(mu=1000, sigma=10, n=52, random_state=i)\n",
    "    control_chart = ShewhartControlChart(mu=1000, sigma=10, p=p, c=c, r=r)\n",
    "    purchased = []\n",
    "    for d in demand:\n",
    "        purchased.append(control_chart.purchase())\n",
    "        control_chart.test(d)\n",
    "    results = meter(demand, purchased, verbose=True)\n",
    "print(\"----------------------------------------------------------------------\")\n",
    "stats = meter.calculate_statistics()\n"
   ]
  },
  {
   "cell_type": "code",
   "execution_count": 3,
   "metadata": {},
   "outputs": [
    {
     "name": "stdout",
     "output_type": "stream",
     "text": [
      "----------------------------------------------------------------------\n",
      "     n_stockout - mean:        207.2240, std:         35.3278\n",
      "      n_holding - mean:        213.1365, std:         38.4337\n",
      "  stockout_cost - mean:        207.2240, std:         35.3278\n",
      "   holding_cost - mean:        213.1365, std:         38.4337\n",
      "     total_cost - mean:        420.3606, std:         41.3391\n",
      "  service_level - mean:          0.5119, std:          0.0689\n"
     ]
    }
   ],
   "source": [
    "# demand: stable N(1000, 10) * 52\n",
    "# stockout cost vs. holding cost = 1:1\n",
    "\n",
    "p = 6\n",
    "c = 5\n",
    "r = 4\n",
    "meter = Meter(p, c, r)\n",
    "\n",
    "for i in range(60):\n",
    "    demand = stable(mu=1000, sigma=10, n=52, random_state=i)\n",
    "    control_chart = ShewhartControlChart(mu=1000, sigma=10, p=p, c=c, r=r)\n",
    "    purchased = []\n",
    "    for d in demand:\n",
    "        purchased.append(control_chart.purchase())\n",
    "        control_chart.test(d)\n",
    "    results = meter(demand, purchased, verbose=False)\n",
    "print(\"----------------------------------------------------------------------\")\n",
    "stats = meter.calculate_statistics()\n"
   ]
  },
  {
   "cell_type": "code",
   "execution_count": 4,
   "metadata": {},
   "outputs": [
    {
     "name": "stdout",
     "output_type": "stream",
     "text": [
      "----------------------------------------------------------------------\n",
      "     n_stockout - mean:        115.7930, std:         24.7954\n",
      "      n_holding - mean:        345.6837, std:         47.5770\n",
      "  stockout_cost - mean:        231.5860, std:         49.5908\n",
      "   holding_cost - mean:        345.6837, std:         47.5770\n",
      "     total_cost - mean:        577.2697, std:         54.7415\n",
      "  service_level - mean:          0.6696, std:          0.0563\n"
     ]
    }
   ],
   "source": [
    "# demand: stable N(1000, 10) * 52\n",
    "# stockout cost vs. holding cost = 2:1\n",
    "\n",
    "p = 7\n",
    "c = 5\n",
    "r = 4\n",
    "meter = Meter(p, c, r)\n",
    "\n",
    "for i in range(60):\n",
    "    demand = stable(mu=1000, sigma=10, n=52, random_state=i)\n",
    "    control_chart = ShewhartControlChart(mu=1000, sigma=10, p=p, c=c, r=r)\n",
    "    purchased = []\n",
    "    for d in demand:\n",
    "        purchased.append(control_chart.purchase())\n",
    "        control_chart.test(d)\n",
    "    results = meter(demand, purchased, verbose=False)\n",
    "print(\"----------------------------------------------------------------------\")\n",
    "stats = meter.calculate_statistics()"
   ]
  },
  {
   "cell_type": "code",
   "execution_count": 13,
   "metadata": {},
   "outputs": [
    {
     "name": "stdout",
     "output_type": "stream",
     "text": [
      "----------------------------------------------------------------------\n",
      "     n_stockout - mean:        691.3370, std:        164.4662\n",
      "      n_holding - mean:        134.8774, std:        107.4428\n",
      "  stockout_cost - mean:        691.3370, std:        164.4662\n",
      "   holding_cost - mean:        269.7548, std:        214.8856\n",
      "     total_cost - mean:        961.0918, std:        163.6543\n",
      "  service_level - mean:          0.2946, std:          0.1433\n"
     ]
    }
   ],
   "source": [
    "# demand: stepwise_increasing N({0:1000, 13:1025, 26:1050, 39:1075}, 10)\n",
    "# stockout cost vs. holding cost = 1:2\n",
    "\n",
    "p = 6\n",
    "c = 5\n",
    "r = 3\n",
    "meter = Meter(p, c, r)\n",
    "\n",
    "for i in range(60):\n",
    "    demand = stepwise_increasing(mu={0:1000, 13:1030, 26:1060, 39:1090}, sigma=10, n=52, random_state=i)\n",
    "    control_chart = ShewhartControlChart(mu=1000, sigma=10, p=p, c=c, r=r)\n",
    "    purchased = []\n",
    "    for t, d in enumerate(demand):\n",
    "        purchased.append(control_chart.purchase())\n",
    "        control_chart.test(d, None)\n",
    "    # print(f\"{i:>2} \" , end=\"\")\n",
    "    results = meter(demand, purchased, verbose=False)\n",
    "print(\"----------------------------------------------------------------------\")\n",
    "stats = meter.calculate_statistics()\n"
   ]
  },
  {
   "cell_type": "code",
   "execution_count": 14,
   "metadata": {},
   "outputs": [
    {
     "name": "stdout",
     "output_type": "stream",
     "text": [
      "----------------------------------------------------------------------\n",
      "     n_stockout - mean:        544.6832, std:        136.8967\n",
      "      n_holding - mean:        212.2018, std:        135.9974\n",
      "  stockout_cost - mean:        544.6832, std:        136.8967\n",
      "   holding_cost - mean:        212.2018, std:        135.9974\n",
      "     total_cost - mean:        756.8850, std:        112.5070\n",
      "  service_level - mean:          0.3946, std:          0.1498\n"
     ]
    }
   ],
   "source": [
    "# demand: stepwise_increasing N({0:1000, 13:1025, 26:1050, 39:1075}, 10)\n",
    "# stockout cost vs. holding cost = 1:1\n",
    "\n",
    "p = 6\n",
    "c = 5\n",
    "r = 4\n",
    "meter = Meter(p, c, r)\n",
    "\n",
    "for i in range(60):\n",
    "    demand = stepwise_increasing(mu={0:1000, 13:1030, 26:1060, 39:1090}, sigma=10, n=52, random_state=i)\n",
    "    control_chart = ShewhartControlChart(mu=1000, sigma=10, p=p, c=c, r=r)\n",
    "    purchased = []\n",
    "    for d in demand:\n",
    "        purchased.append(control_chart.purchase())\n",
    "        control_chart.test(d)\n",
    "    results = meter(demand, purchased, verbose=False)\n",
    "print(\"----------------------------------------------------------------------\")\n",
    "stats = meter.calculate_statistics()\n"
   ]
  },
  {
   "cell_type": "code",
   "execution_count": 15,
   "metadata": {},
   "outputs": [
    {
     "name": "stdout",
     "output_type": "stream",
     "text": [
      "----------------------------------------------------------------------\n",
      "     n_stockout - mean:        420.6980, std:        108.9134\n",
      "      n_holding - mean:        312.1948, std:        162.9688\n",
      "  stockout_cost - mean:        841.3961, std:        217.8269\n",
      "   holding_cost - mean:        312.1948, std:        162.9688\n",
      "     total_cost - mean:       1153.5909, std:        164.9876\n",
      "  service_level - mean:          0.4936, std:          0.1386\n"
     ]
    }
   ],
   "source": [
    "# demand: stepwise_increasing N({0:1000, 13:1025, 26:1050, 39:1075}, 10)\n",
    "# stockout cost vs. holding cost = 2:1\n",
    "\n",
    "p = 7\n",
    "c = 5\n",
    "r = 4\n",
    "meter = Meter(p, c, r)\n",
    "\n",
    "for i in range(60):\n",
    "    demand = stepwise_increasing(mu={0:1000, 13:1030, 26:1060, 39:1090}, sigma=10, n=52, random_state=i)\n",
    "    control_chart = ShewhartControlChart(mu=1000, sigma=10, p=p, c=c, r=r)\n",
    "    purchased = []\n",
    "    for d in demand:\n",
    "        purchased.append(control_chart.purchase())\n",
    "        control_chart.test(d)\n",
    "    results = meter(demand, purchased, verbose=False)\n",
    "print(\"----------------------------------------------------------------------\")\n",
    "stats = meter.calculate_statistics()"
   ]
  },
  {
   "cell_type": "code",
   "execution_count": null,
   "metadata": {},
   "outputs": [],
   "source": []
  }
 ],
 "metadata": {
  "kernelspec": {
   "display_name": "env-py39",
   "language": "python",
   "name": "python3"
  },
  "language_info": {
   "codemirror_mode": {
    "name": "ipython",
    "version": 3
   },
   "file_extension": ".py",
   "mimetype": "text/x-python",
   "name": "python",
   "nbconvert_exporter": "python",
   "pygments_lexer": "ipython3",
   "version": "3.9.18"
  }
 },
 "nbformat": 4,
 "nbformat_minor": 2
}
